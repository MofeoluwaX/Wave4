{
 "cells": [
  {
   "cell_type": "code",
   "execution_count": null,
   "metadata": {},
   "outputs": [],
   "source": [
    "user_list = []\n",
    "list_sum = 0\n",
    "\n",
    "# seek user input for ten numbers \n",
    "for i in range(10):\n",
    "    userInput = int(input(\"Enter any 2-digit number: \"))\n",
    "    \n",
    "# check to see if number is even and if yes, add to list_sum\n",
    "# print incorrect value warning  when ValueError exception occurs\n",
    "    number = userInput\n",
    "    user_list.append(number)\n",
    "    if number % 2 == 0:\n",
    "        list_sum += number\n",
    "\n",
    "\n",
    "print(\"user_list: {}\".format(user_list))\n",
    "print(\"The sum of the even numbers in user_list is: {}.\".format(list_sum))"
   ]
  }
 ],
 "metadata": {
  "kernelspec": {
   "display_name": "Python 3",
   "language": "python",
   "name": "python3"
  },
  "language_info": {
   "codemirror_mode": {
    "name": "ipython",
    "version": 3
   },
   "file_extension": ".py",
   "mimetype": "text/x-python",
   "name": "python",
   "nbconvert_exporter": "python",
   "pygments_lexer": "ipython3",
   "version": "3.7.1"
  }
 },
 "nbformat": 4,
 "nbformat_minor": 2
}
