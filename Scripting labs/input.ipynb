{
 "cells": [
  {
   "cell_type": "code",
   "execution_count": null,
   "metadata": {},
   "outputs": [],
   "source": [
    "names = input(\"Enter list of names seperated by a comma: \")\n",
    "assignments = input(\"Enter list of number of assignments seperated by a comma: \")\n",
    "grades =  input(\"Enter list of grades seperated by a comma: \")\n",
    "\n",
    "lname = [i for i in names.split(\", \")]\n",
    "lass =  [int(i) for i in assignments.split(\", \")]\n",
    "lgrad = [int(i) for i in grades.split(\", \")]\n",
    "# message string to be used for each student\n",
    "# HINT: use .format() with this string in your for loop\n",
    "message = \"Hi {},\\n\\nThis is a reminder that you have {} assignments left to \\\n",
    "submit before you can graduate. You're current grade is {} and can increase \\\n",
    "to {} if you submit all assignments before the due date.\\n\\n\"\n",
    "\n",
    "# write a for loop that iterates through each set of names, assignments, and grades to print each student's message\n",
    "for i in zip(lname,lass,lgrad):\n",
    "    print(message.format(i[0],i[1],i[2],i[2]+2))"
   ]
  },
  {
   "cell_type": "code",
   "execution_count": null,
   "metadata": {},
   "outputs": [],
   "source": []
  }
 ],
 "metadata": {
  "kernelspec": {
   "display_name": "Python 3",
   "language": "python",
   "name": "python3"
  },
  "language_info": {
   "codemirror_mode": {
    "name": "ipython",
    "version": 3
   },
   "file_extension": ".py",
   "mimetype": "text/x-python",
   "name": "python",
   "nbconvert_exporter": "python",
   "pygments_lexer": "ipython3",
   "version": "3.7.1"
  }
 },
 "nbformat": 4,
 "nbformat_minor": 2
}
